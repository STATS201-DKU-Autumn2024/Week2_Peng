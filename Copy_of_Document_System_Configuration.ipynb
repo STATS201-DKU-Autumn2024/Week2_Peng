{
  "cells": [
    {
      "cell_type": "markdown",
      "metadata": {
        "id": "3PI_yEBvTdWU"
      },
      "source": [
        "# 1. Get Basic System Information\n",
        "Google Colab runs on a Linux environment, so we can use shell commands to extract system information."
      ]
    },
    {
      "cell_type": "markdown",
      "metadata": {
        "id": "9qnK74DPTkKv"
      },
      "source": [
        "## CPU information"
      ]
    },
    {
      "cell_type": "code",
      "execution_count": 15,
      "metadata": {
        "colab": {
          "base_uri": "https://localhost:8080/"
        },
        "id": "jWongsxlTX7T",
        "outputId": "b2253319-16bd-4d1e-8a60-9169f3a82925"
      },
      "outputs": [
        {
          "name": "stdout",
          "output_type": "stream",
          "text": [
            "machdep.cpu.cores_per_package: 8\n",
            "machdep.cpu.core_count: 8\n",
            "machdep.cpu.logical_per_package: 8\n",
            "machdep.cpu.thread_count: 8\n",
            "machdep.cpu.brand_string: Apple M1\n"
          ]
        }
      ],
      "source": [
        "import platform\n",
        "if platform.system() == 'Windows':\n",
        "    # Windows CPU info\n",
        "    !wmic cpu get caption, deviceid, name, numberofcores, maxclockspeed, status\n",
        "elif platform.system() == 'Darwin':  # macOS\n",
        "    # macOS CPU info\n",
        "    !sysctl -a | grep \"machdep.cpu\"\n",
        "else:\n",
        "    # Assume Linux/Unix\n",
        "    !lscpu\n"
      ]
    },
    {
      "cell_type": "markdown",
      "metadata": {
        "id": "sAc5em3tTmgD"
      },
      "source": [
        "## GPU Information\n",
        "To check if a GPU is available and get its details:"
      ]
    },
    {
      "cell_type": "code",
      "execution_count": 2,
      "metadata": {
        "colab": {
          "base_uri": "https://localhost:8080/"
        },
        "id": "bYgf7f2wTqiu",
        "outputId": "927f041b-3d19-4b55-dda2-b8aaf302e312"
      },
      "outputs": [
        {
          "name": "stderr",
          "output_type": "stream",
          "text": [
            "/Users/wangpeng/Library/Python/3.9/lib/python/site-packages/urllib3/__init__.py:35: NotOpenSSLWarning: urllib3 v2 only supports OpenSSL 1.1.1+, currently the 'ssl' module is compiled with 'LibreSSL 2.8.3'. See: https://github.com/urllib3/urllib3/issues/3020\n",
            "  warnings.warn(\n"
          ]
        },
        {
          "name": "stdout",
          "output_type": "stream",
          "text": [
            "No GPU found\n"
          ]
        }
      ],
      "source": [
        "import tensorflow as tf\n",
        "\n",
        "if tf.config.list_physical_devices('GPU'):\n",
        "    !nvidia-smi\n",
        "else:\n",
        "    print(\"No GPU found\")\n"
      ]
    },
    {
      "cell_type": "markdown",
      "metadata": {
        "id": "dG1JNdlaTur1"
      },
      "source": [
        "## Memory Information\n",
        "To see the total and available memory:"
      ]
    },
    {
      "cell_type": "code",
      "execution_count": 17,
      "metadata": {
        "colab": {
          "base_uri": "https://localhost:8080/"
        },
        "id": "k0XAyYbGTxCD",
        "outputId": "bed4825c-f2fd-4c87-9e75-e550e3006417"
      },
      "outputs": [
        {
          "name": "stdout",
          "output_type": "stream",
          "text": [
            "Free: 12.7383 MB\n",
            "Active: 344.895 MB\n",
            "Inactive: 344.895 MB\n",
            "Wired: 398.93 MB\n"
          ]
        }
      ],
      "source": [
        "import platform\n",
        "\n",
        "if platform.system() == 'Windows':\n",
        "    # Windows memory info\n",
        "    !systeminfo | findstr /C:\"Total Physical Memory\"\n",
        "elif platform.system() == 'Darwin':  # macOS\n",
        "    # macOS memory info\n",
        "    !vm_stat | awk '/free/ {free=$3} /active/ {active=$3} /inactive/ {inactive=$3} /wired/ {wired=$4} END {print \"Free: \" free*4096/1024/1024 \" MB\"; print \"Active: \" active*4096/1024/1024 \" MB\"; print \"Inactive: \" inactive*4096/1024/1024 \" MB\"; print \"Wired: \" wired*4096/1024/1024 \" MB\"}'\n",
        "else:\n",
        "    # Linux memory info\n",
        "    !free -h\n"
      ]
    },
    {
      "cell_type": "markdown",
      "metadata": {
        "id": "6fNctdsQTy92"
      },
      "source": [
        "# 2. List of Installed Python Packages"
      ]
    },
    {
      "cell_type": "code",
      "execution_count": 4,
      "metadata": {
        "colab": {
          "base_uri": "https://localhost:8080/"
        },
        "id": "L9MG_2CIT19H",
        "outputId": "39b4b239-72f4-4b35-ac13-4f81375373e4"
      },
      "outputs": [
        {
          "name": "stdout",
          "output_type": "stream",
          "text": [
            "Package                                           Version\n",
            "------------------------------------------------- ----------\n",
            "absl-py                                           2.1.0\n",
            "altgraph                                          0.17.2\n",
            "annotated-types                                   0.7.0\n",
            "anyio                                             4.4.0\n",
            "appnope                                           0.1.4\n",
            "asttokens                                         2.4.1\n",
            "astunparse                                        1.6.3\n",
            "audioread                                         3.0.1\n",
            "certifi                                           2023.11.17\n",
            "cffi                                              1.16.0\n",
            "charset-normalizer                                3.3.2\n",
            "comm                                              0.2.2\n",
            "contourpy                                         1.2.0\n",
            "cycler                                            0.12.1\n",
            "debugpy                                           1.8.1\n",
            "decorator                                         5.1.1\n",
            "distro                                            1.9.0\n",
            "exceptiongroup                                    1.2.0\n",
            "executing                                         2.0.1\n",
            "fastdtw                                           0.3.4\n",
            "flatbuffers                                       24.3.25\n",
            "fonttools                                         4.47.2\n",
            "future                                            0.18.2\n",
            "gast                                              0.5.4\n",
            "google-pasta                                      0.2.0\n",
            "grpcio                                            1.62.1\n",
            "h11                                               0.14.0\n",
            "h5py                                              3.11.0\n",
            "httpcore                                          1.0.5\n",
            "httpx                                             0.27.0\n",
            "idna                                              3.6\n",
            "importlib_metadata                                7.1.0\n",
            "importlib-resources                               6.1.1\n",
            "ipykernel                                         6.29.4\n",
            "ipython                                           8.18.1\n",
            "jedi                                              0.19.1\n",
            "joblib                                            1.3.2\n",
            "jupyter_client                                    8.6.1\n",
            "jupyter_core                                      5.7.2\n",
            "keras                                             3.2.1\n",
            "keyboard                                          0.13.5\n",
            "kiwisolver                                        1.4.5\n",
            "lazy_loader                                       0.3\n",
            "libclang                                          18.1.1\n",
            "librosa                                           0.10.1\n",
            "llvmlite                                          0.41.1\n",
            "macholib                                          1.15.2\n",
            "Markdown                                          3.6\n",
            "markdown-it-py                                    3.0.0\n",
            "MarkupSafe                                        2.1.5\n",
            "matplotlib                                        3.8.2\n",
            "matplotlib-inline                                 0.1.6\n",
            "mdurl                                             0.1.2\n",
            "ml-dtypes                                         0.3.2\n",
            "msgpack                                           1.0.7\n",
            "namex                                             0.0.7\n",
            "nest-asyncio                                      1.6.0\n",
            "numba                                             0.58.1\n",
            "numpy                                             1.26.3\n",
            "openai                                            1.35.3\n",
            "opencv-python                                     4.9.0.80\n",
            "opt-einsum                                        3.3.0\n",
            "optree                                            0.11.0\n",
            "packaging                                         23.2\n",
            "pandas                                            2.2.2\n",
            "parso                                             0.8.4\n",
            "pexpect                                           4.9.0\n",
            "pillow                                            10.2.0\n",
            "pip                                               24.1\n",
            "platformdirs                                      4.2.0\n",
            "pooch                                             1.8.0\n",
            "prompt-toolkit                                    3.0.43\n",
            "protobuf                                          4.25.3\n",
            "psutil                                            5.9.8\n",
            "ptyprocess                                        0.7.0\n",
            "pure-eval                                         0.2.2\n",
            "PyAudio                                           0.2.14\n",
            "pycparser                                         2.21\n",
            "pydantic                                          2.7.4\n",
            "pydantic_core                                     2.18.4\n",
            "Pygments                                          2.17.2\n",
            "pyobjc                                            10.1\n",
            "pyobjc-core                                       10.1\n",
            "pyobjc-framework-Accessibility                    10.1\n",
            "pyobjc-framework-Accounts                         10.1\n",
            "pyobjc-framework-AddressBook                      10.1\n",
            "pyobjc-framework-AdServices                       10.1\n",
            "pyobjc-framework-AdSupport                        10.1\n",
            "pyobjc-framework-AppleScriptKit                   10.1\n",
            "pyobjc-framework-AppleScriptObjC                  10.1\n",
            "pyobjc-framework-ApplicationServices              10.1\n",
            "pyobjc-framework-AppTrackingTransparency          10.1\n",
            "pyobjc-framework-AudioVideoBridging               10.1\n",
            "pyobjc-framework-AuthenticationServices           10.1\n",
            "pyobjc-framework-AutomaticAssessmentConfiguration 10.1\n",
            "pyobjc-framework-Automator                        10.1\n",
            "pyobjc-framework-AVFoundation                     10.1\n",
            "pyobjc-framework-AVKit                            10.1\n",
            "pyobjc-framework-AVRouting                        10.1\n",
            "pyobjc-framework-BackgroundAssets                 10.1\n",
            "pyobjc-framework-BusinessChat                     10.1\n",
            "pyobjc-framework-CalendarStore                    10.1\n",
            "pyobjc-framework-CallKit                          10.1\n",
            "pyobjc-framework-CFNetwork                        10.1\n",
            "pyobjc-framework-ClassKit                         10.1\n",
            "pyobjc-framework-CloudKit                         10.1\n",
            "pyobjc-framework-Cocoa                            10.1\n",
            "pyobjc-framework-Collaboration                    10.1\n",
            "pyobjc-framework-ColorSync                        10.1\n",
            "pyobjc-framework-Contacts                         10.1\n",
            "pyobjc-framework-ContactsUI                       10.1\n",
            "pyobjc-framework-CoreAudio                        10.1\n",
            "pyobjc-framework-CoreAudioKit                     10.1\n",
            "pyobjc-framework-CoreBluetooth                    10.1\n",
            "pyobjc-framework-CoreData                         10.1\n",
            "pyobjc-framework-CoreHaptics                      10.1\n",
            "pyobjc-framework-CoreLocation                     10.1\n",
            "pyobjc-framework-CoreMedia                        10.1\n",
            "pyobjc-framework-CoreMediaIO                      10.1\n",
            "pyobjc-framework-CoreMIDI                         10.1\n",
            "pyobjc-framework-CoreML                           10.1\n",
            "pyobjc-framework-CoreMotion                       10.1\n",
            "pyobjc-framework-CoreServices                     10.1\n",
            "pyobjc-framework-CoreSpotlight                    10.1\n",
            "pyobjc-framework-CoreText                         10.1\n",
            "pyobjc-framework-CoreWLAN                         10.1\n",
            "pyobjc-framework-CryptoTokenKit                   10.1\n",
            "pyobjc-framework-DataDetection                    10.1\n",
            "pyobjc-framework-DeviceCheck                      10.1\n",
            "pyobjc-framework-DictionaryServices               10.1\n",
            "pyobjc-framework-DiscRecording                    10.1\n",
            "pyobjc-framework-DiscRecordingUI                  10.1\n",
            "pyobjc-framework-DiskArbitration                  10.1\n",
            "pyobjc-framework-DVDPlayback                      10.1\n",
            "pyobjc-framework-EventKit                         10.1\n",
            "pyobjc-framework-ExceptionHandling                10.1\n",
            "pyobjc-framework-ExecutionPolicy                  10.1\n",
            "pyobjc-framework-ExtensionKit                     10.1\n",
            "pyobjc-framework-ExternalAccessory                10.1\n",
            "pyobjc-framework-FileProvider                     10.1\n",
            "pyobjc-framework-FileProviderUI                   10.1\n",
            "pyobjc-framework-FinderSync                       10.1\n",
            "pyobjc-framework-FSEvents                         10.1\n",
            "pyobjc-framework-GameCenter                       10.1\n",
            "pyobjc-framework-GameController                   10.1\n",
            "pyobjc-framework-GameKit                          10.1\n",
            "pyobjc-framework-GameplayKit                      10.1\n",
            "pyobjc-framework-HealthKit                        10.1\n",
            "pyobjc-framework-ImageCaptureCore                 10.1\n",
            "pyobjc-framework-InputMethodKit                   10.1\n",
            "pyobjc-framework-InstallerPlugins                 10.1\n",
            "pyobjc-framework-InstantMessage                   10.1\n",
            "pyobjc-framework-Intents                          10.1\n",
            "pyobjc-framework-IntentsUI                        10.1\n",
            "pyobjc-framework-IOBluetooth                      10.1\n",
            "pyobjc-framework-IOBluetoothUI                    10.1\n",
            "pyobjc-framework-IOSurface                        10.1\n",
            "pyobjc-framework-iTunesLibrary                    10.1\n",
            "pyobjc-framework-KernelManagement                 10.1\n",
            "pyobjc-framework-LatentSemanticMapping            10.1\n",
            "pyobjc-framework-LaunchServices                   10.1\n",
            "pyobjc-framework-libdispatch                      10.1\n",
            "pyobjc-framework-libxpc                           10.1\n",
            "pyobjc-framework-LinkPresentation                 10.1\n",
            "pyobjc-framework-LocalAuthentication              10.1\n",
            "pyobjc-framework-LocalAuthenticationEmbeddedUI    10.1\n",
            "pyobjc-framework-MailKit                          10.1\n",
            "pyobjc-framework-MapKit                           10.1\n",
            "pyobjc-framework-MediaAccessibility               10.1\n",
            "pyobjc-framework-MediaLibrary                     10.1\n",
            "pyobjc-framework-MediaPlayer                      10.1\n",
            "pyobjc-framework-MediaToolbox                     10.1\n",
            "pyobjc-framework-Metal                            10.1\n",
            "pyobjc-framework-MetalFX                          10.1\n",
            "pyobjc-framework-MetalKit                         10.1\n",
            "pyobjc-framework-MetalPerformanceShaders          10.1\n",
            "pyobjc-framework-MetalPerformanceShadersGraph     10.1\n",
            "pyobjc-framework-MetricKit                        10.1\n",
            "pyobjc-framework-MLCompute                        10.1\n",
            "pyobjc-framework-ModelIO                          10.1\n",
            "pyobjc-framework-MultipeerConnectivity            10.1\n",
            "pyobjc-framework-NaturalLanguage                  10.1\n",
            "pyobjc-framework-NetFS                            10.1\n",
            "pyobjc-framework-Network                          10.1\n",
            "pyobjc-framework-NetworkExtension                 10.1\n",
            "pyobjc-framework-NotificationCenter               10.1\n",
            "pyobjc-framework-OpenDirectory                    10.1\n",
            "pyobjc-framework-OSAKit                           10.1\n",
            "pyobjc-framework-OSLog                            10.1\n",
            "pyobjc-framework-PassKit                          10.1\n",
            "pyobjc-framework-PencilKit                        10.1\n",
            "pyobjc-framework-PHASE                            10.1\n",
            "pyobjc-framework-Photos                           10.1\n",
            "pyobjc-framework-PhotosUI                         10.1\n",
            "pyobjc-framework-PreferencePanes                  10.1\n",
            "pyobjc-framework-PushKit                          10.1\n",
            "pyobjc-framework-Quartz                           10.1\n",
            "pyobjc-framework-QuickLookThumbnailing            10.1\n",
            "pyobjc-framework-ReplayKit                        10.1\n",
            "pyobjc-framework-SafariServices                   10.1\n",
            "pyobjc-framework-SafetyKit                        10.1\n",
            "pyobjc-framework-SceneKit                         10.1\n",
            "pyobjc-framework-ScreenCaptureKit                 10.1\n",
            "pyobjc-framework-ScreenSaver                      10.1\n",
            "pyobjc-framework-ScreenTime                       10.1\n",
            "pyobjc-framework-ScriptingBridge                  10.1\n",
            "pyobjc-framework-SearchKit                        10.1\n",
            "pyobjc-framework-Security                         10.1\n",
            "pyobjc-framework-SecurityFoundation               10.1\n",
            "pyobjc-framework-SecurityInterface                10.1\n",
            "pyobjc-framework-ServiceManagement                10.1\n",
            "pyobjc-framework-SharedWithYou                    10.1\n",
            "pyobjc-framework-SharedWithYouCore                10.1\n",
            "pyobjc-framework-ShazamKit                        10.1\n",
            "pyobjc-framework-Social                           10.1\n",
            "pyobjc-framework-SoundAnalysis                    10.1\n",
            "pyobjc-framework-Speech                           10.1\n",
            "pyobjc-framework-SpriteKit                        10.1\n",
            "pyobjc-framework-StoreKit                         10.1\n",
            "pyobjc-framework-SyncServices                     10.1\n",
            "pyobjc-framework-SystemConfiguration              10.1\n",
            "pyobjc-framework-SystemExtensions                 10.1\n",
            "pyobjc-framework-ThreadNetwork                    10.1\n",
            "pyobjc-framework-UniformTypeIdentifiers           10.1\n",
            "pyobjc-framework-UserNotifications                10.1\n",
            "pyobjc-framework-UserNotificationsUI              10.1\n",
            "pyobjc-framework-VideoSubscriberAccount           10.1\n",
            "pyobjc-framework-VideoToolbox                     10.1\n",
            "pyobjc-framework-Virtualization                   10.1\n",
            "pyobjc-framework-Vision                           10.1\n",
            "pyobjc-framework-WebKit                           10.1\n",
            "pyparsing                                         3.1.1\n",
            "python-dateutil                                   2.8.2\n",
            "pytz                                              2024.1\n",
            "pyzmq                                             25.1.2\n",
            "requests                                          2.31.0\n",
            "rich                                              13.7.1\n",
            "scikit-learn                                      1.4.0\n",
            "scipy                                             1.12.0\n",
            "setuptools                                        58.0.4\n",
            "six                                               1.15.0\n",
            "sniffio                                           1.3.1\n",
            "sounddevice                                       0.4.6\n",
            "soundfile                                         0.12.1\n",
            "soxr                                              0.3.7\n",
            "stack-data                                        0.6.3\n",
            "tensorboard                                       2.16.2\n",
            "tensorboard-data-server                           0.7.2\n",
            "tensorflow                                        2.16.1\n",
            "tensorflow-io-gcs-filesystem                      0.36.0\n",
            "termcolor                                         2.4.0\n",
            "threadpoolctl                                     3.2.0\n",
            "tornado                                           6.4\n",
            "tqdm                                              4.66.4\n",
            "traitlets                                         5.14.2\n",
            "typing_extensions                                 4.9.0\n",
            "tzdata                                            2024.1\n",
            "urllib3                                           2.2.0\n",
            "wcwidth                                           0.2.13\n",
            "Werkzeug                                          3.0.2\n",
            "wheel                                             0.37.0\n",
            "wrapt                                             1.16.0\n",
            "zipp                                              3.17.0\n"
          ]
        }
      ],
      "source": [
        "!pip list #you can use pip to list all installed Python packages with versions.\n"
      ]
    },
    {
      "cell_type": "markdown",
      "metadata": {
        "id": "seVx2YY-T8oE"
      },
      "source": [
        "Or save it to a text file for documentation:"
      ]
    },
    {
      "cell_type": "code",
      "execution_count": 5,
      "metadata": {
        "id": "HYUpDcEST8b1"
      },
      "outputs": [],
      "source": [
        "!pip list > installed_packages.txt\n"
      ]
    },
    {
      "cell_type": "markdown",
      "metadata": {
        "id": "nJSdG_8sUCr2"
      },
      "source": [
        "# 3. Check Python Version"
      ]
    },
    {
      "cell_type": "markdown",
      "metadata": {
        "id": "VJZ34it5UGxx"
      },
      "source": [
        "Google Colab usually runs Python 3, but it’s good to confirm the version."
      ]
    },
    {
      "cell_type": "code",
      "execution_count": 6,
      "metadata": {
        "colab": {
          "base_uri": "https://localhost:8080/"
        },
        "id": "rsoU7AAGUD1k",
        "outputId": "39ab3b56-9b51-4ef5-c3dd-5481d51f3876"
      },
      "outputs": [
        {
          "name": "stdout",
          "output_type": "stream",
          "text": [
            "Python 3.9.18\n"
          ]
        }
      ],
      "source": [
        "!python --version"
      ]
    },
    {
      "cell_type": "markdown",
      "metadata": {
        "id": "Ae5nsStNULpK"
      },
      "source": [
        "# 4. Check Available Disk Space\n",
        "To see how much disk space is available:"
      ]
    },
    {
      "cell_type": "code",
      "execution_count": 7,
      "metadata": {
        "colab": {
          "base_uri": "https://localhost:8080/"
        },
        "id": "Vhp8-lfpUMvD",
        "outputId": "7e4f0d0e-b059-4a5c-bd32-0f6d87362b8f"
      },
      "outputs": [
        {
          "name": "stdout",
          "output_type": "stream",
          "text": [
            "Filesystem                                Size    Used   Avail Capacity iused ifree %iused  Mounted on\n",
            "/dev/disk3s1s1                           460Gi    19Gi    30Gi    39%    404k  315M    0%   /\n",
            "devfs                                    203Ki   203Ki     0Bi   100%     702     0  100%   /dev\n",
            "/dev/disk3s6                             460Gi   7.0Gi    30Gi    19%       7  315M    0%   /System/Volumes/VM\n",
            "/dev/disk3s2                             460Gi    11Gi    30Gi    28%    1.6k  315M    0%   /System/Volumes/Preboot\n",
            "/dev/disk3s4                             460Gi   626Mi    30Gi     2%     295  315M    0%   /System/Volumes/Update\n",
            "/dev/disk1s2                             500Mi   6.0Mi   480Mi     2%       1  4.9M    0%   /System/Volumes/xarts\n",
            "/dev/disk1s1                             500Mi   6.2Mi   480Mi     2%      29  4.9M    0%   /System/Volumes/iSCPreboot\n",
            "/dev/disk1s3                             500Mi   3.2Mi   480Mi     1%      55  4.9M    0%   /System/Volumes/Hardware\n",
            "/dev/disk3s5                             460Gi   390Gi    30Gi    93%    4.0M  315M    1%   /System/Volumes/Data\n",
            "/dev/disk3s1                             460Gi    19Gi    30Gi    39%    404k  315M    0%   /System/Volumes/Update/mnt1\n",
            "map auto_home                              0Bi     0Bi     0Bi   100%       0     0     -   /System/Volumes/Data/home\n",
            "/Applications/Shadowrocket.app/Wrapper   460Gi   384Gi    41Gi    91%    3.9M  432M    1%   /private/var/folders/lb/hxgt11q17hb8gzs1pw1v2jr40000gn/X/BA274810-68C4-51F7-B3FC-0D68F8CDBE6F\n"
          ]
        }
      ],
      "source": [
        "!df -h\n"
      ]
    },
    {
      "cell_type": "markdown",
      "metadata": {
        "id": "9vc0WFcwUTva"
      },
      "source": [
        "# 5. Get Environment Variables\n",
        "Environment variables give insight into system paths, user settings, and specific Colab configurations."
      ]
    },
    {
      "cell_type": "code",
      "execution_count": 8,
      "metadata": {
        "colab": {
          "base_uri": "https://localhost:8080/"
        },
        "id": "ouT31PklUXJl",
        "outputId": "4562758b-137b-459f-e2cd-ed995052f73f"
      },
      "outputs": [
        {
          "name": "stdout",
          "output_type": "stream",
          "text": [
            "COMMAND_MODE: unix2003\n",
            "CONDA_DEFAULT_ENV: base\n",
            "CONDA_EXE: /Users/wangpeng/miniforge3/bin/conda\n",
            "CONDA_PREFIX: /Users/wangpeng/miniforge3\n",
            "CONDA_PROMPT_MODIFIER: (base) \n",
            "CONDA_PYTHON_EXE: /Users/wangpeng/miniforge3/bin/python\n",
            "CONDA_SHLVL: 1\n",
            "HOME: /Users/wangpeng\n",
            "HOMEBREW_CELLAR: /opt/homebrew/Cellar\n",
            "HOMEBREW_PREFIX: /opt/homebrew\n",
            "HOMEBREW_REPOSITORY: /opt/homebrew\n",
            "INFOPATH: /opt/homebrew/share/info:\n",
            "LOGNAME: wangpeng\n",
            "MANPATH: /Library/Developer/CommandLineTools/SDKs/MacOSX.sdk/usr/share/man:/Library/Developer/CommandLineTools/usr/share/man:/Library/Developer/CommandLineTools/Toolchains/XcodeDefault.xctoolchain/usr/share/man:/opt/homebrew/share/man::\n",
            "MallocNanoZone: 0\n",
            "OLDPWD: /\n",
            "ORIGINAL_XDG_CURRENT_DESKTOP: undefined\n",
            "PATH: /usr/bin:/Users/wangpeng/Library/Python/3.9/bin:/Users/wangpeng/miniforge3/bin:/Users/wangpeng/miniforge3/condabin:/opt/homebrew/bin:/opt/homebrew/sbin:/usr/local/bin:/System/Cryptexes/App/usr/bin:/usr/bin:/bin:/usr/sbin:/sbin:/var/run/com.apple.security.cryptexd/codex.system/bootstrap/usr/local/bin:/var/run/com.apple.security.cryptexd/codex.system/bootstrap/usr/bin:/var/run/com.apple.security.cryptexd/codex.system/bootstrap/usr/appleinternal/bin:/Library/Apple/usr/bin:/Library/TeX/texbin:/Applications/VMware Fusion.app/Contents/Public:/Library/Frameworks/Mono.framework/Versions/Current/Commands:/Users/wangpeng/cs301-work/sag-client-release:/Users/wangpeng/miniforge3/bin:/Users/wangpeng/miniforge3/condabin:/opt/homebrew/bin:/opt/homebrew/sbin:/usr/local/bin:/System/Cryptexes/App/usr/bin:/usr/bin:/bin:/usr/sbin:/sbin:/var/run/com.apple.security.cryptexd/codex.system/bootstrap/usr/local/bin:/var/run/com.apple.security.cryptexd/codex.system/bootstrap/usr/bin:/var/run/com.apple.security.cryptexd/codex.system/bootstrap/usr/appleinternal/bin:/Library/Apple/usr/bin:/Library/TeX/texbin:/Applications/VMware Fusion.app/Contents/Public:/Library/Frameworks/Mono.framework/Versions/Current/Commands:/Users/wangpeng/cs301-work/sag-client-release\n",
            "PWD: /\n",
            "SHELL: /bin/zsh\n",
            "SHLVL: 0\n",
            "SSH_AUTH_SOCK: /private/tmp/com.apple.launchd.3vPDZ4yhBr/Listeners\n",
            "TMPDIR: /var/folders/lb/hxgt11q17hb8gzs1pw1v2jr40000gn/T/\n",
            "USER: wangpeng\n",
            "VSCODE_AMD_ENTRYPOINT: vs/workbench/api/node/extensionHostProcess\n",
            "VSCODE_CODE_CACHE_PATH: /Users/wangpeng/Library/Application Support/Code/CachedData/4849ca9bdf9666755eb463db297b69e5385090e3\n",
            "VSCODE_CRASH_REPORTER_PROCESS_TYPE: extensionHost\n",
            "VSCODE_CWD: /\n",
            "VSCODE_HANDLES_UNCAUGHT_ERRORS: true\n",
            "VSCODE_IPC_HOOK: /Users/wangpeng/Library/Application Support/Code/1.93-main.sock\n",
            "VSCODE_NLS_CONFIG: {\"userLocale\":\"en-us\",\"osLocale\":\"en-cn\",\"resolvedLanguage\":\"en\",\"defaultMessagesFile\":\"/Applications/Visual Studio Code.app/Contents/Resources/app/out/nls.messages.json\",\"locale\":\"en-us\",\"availableLanguages\":{}}\n",
            "VSCODE_PID: 17006\n",
            "XPC_FLAGS: 0x0\n",
            "XPC_SERVICE_NAME: application.com.microsoft.VSCode.87691952.87691958\n",
            "_: /Applications/Visual Studio Code.app/Contents/MacOS/Electron\n",
            "__CFBundleIdentifier: com.microsoft.VSCode\n",
            "__CF_USER_TEXT_ENCODING: 0x1F5:0x0:0x0\n",
            "ELECTRON_RUN_AS_NODE: 1\n",
            "VSCODE_L10N_BUNDLE_LOCATION: \n",
            "PYDEVD_IPYTHON_COMPATIBLE_DEBUGGING: 1\n",
            "PYTHONUNBUFFERED: 1\n",
            "PYTHONIOENCODING: utf-8\n",
            "PYTHON_FROZEN_MODULES: on\n",
            "SDKROOT: /Library/Developer/CommandLineTools/SDKs/MacOSX.sdk\n",
            "CPATH: /usr/local/include\n",
            "LIBRARY_PATH: /usr/local/lib\n",
            "LC_CTYPE: UTF-8\n",
            "PYDEVD_USE_FRAME_EVAL: NO\n",
            "TERM: xterm-color\n",
            "CLICOLOR: 1\n",
            "FORCE_COLOR: 1\n",
            "CLICOLOR_FORCE: 1\n",
            "PAGER: cat\n",
            "GIT_PAGER: cat\n",
            "MPLBACKEND: module://matplotlib_inline.backend_inline\n",
            "TF2_BEHAVIOR: 1\n",
            "TPU_ML_PLATFORM: Tensorflow\n"
          ]
        }
      ],
      "source": [
        "import os\n",
        "\n",
        "for key, value in os.environ.items():\n",
        "    print(f\"{key}: {value}\")\n"
      ]
    },
    {
      "cell_type": "markdown",
      "metadata": {
        "id": "I2GCSNypUdxl"
      },
      "source": [
        "# 6. Document Google Colab-Specific Resources\n",
        "Google Colab provides access to a TPU (Tensor Processing Unit) as well as a GPU (depending on the runtime configuration).\n",
        "\n",
        "Check TPU Availability"
      ]
    },
    {
      "cell_type": "code",
      "execution_count": 9,
      "metadata": {
        "colab": {
          "base_uri": "https://localhost:8080/"
        },
        "id": "CdjFfTtzUav1",
        "outputId": "1b6796b0-52ac-456e-e2ba-161a6e4b6119"
      },
      "outputs": [
        {
          "name": "stdout",
          "output_type": "stream",
          "text": [
            "TPU is not available\n"
          ]
        }
      ],
      "source": [
        "try:\n",
        "    import torch_xla\n",
        "    import torch_xla.core.xla_model as xm\n",
        "    print(\"TPU is available\")\n",
        "except ImportError:\n",
        "    print(\"TPU is not available\")\n"
      ]
    },
    {
      "cell_type": "markdown",
      "metadata": {
        "id": "y1H35HAMUj9d"
      },
      "source": [
        "Check GPU Availability with TensorFlow\n",
        "You can also verify GPU availability using TensorFlow:"
      ]
    },
    {
      "cell_type": "code",
      "execution_count": 10,
      "metadata": {
        "colab": {
          "base_uri": "https://localhost:8080/"
        },
        "id": "_r3NV0ETUknQ",
        "outputId": "6a0ccb83-c4f4-490b-e06f-4684b129ea8e"
      },
      "outputs": [
        {
          "name": "stdout",
          "output_type": "stream",
          "text": [
            "GPU is not available\n"
          ]
        }
      ],
      "source": [
        "import tensorflow as tf\n",
        "\n",
        "if tf.config.list_physical_devices('GPU'):\n",
        "    print(\"GPU is available\")\n",
        "else:\n",
        "    print(\"GPU is not available\")\n"
      ]
    },
    {
      "cell_type": "markdown",
      "metadata": {
        "id": "fKmVmQyFUmn_"
      },
      "source": [
        "# 7. Summarize Everything in a Report\n",
        "To put everything together and save the output to a file, you can use Python's subprocess module to run these shell commands and capture their output.\n",
        "\n",
        "Here’s a Python script to automate the documentation:"
      ]
    },
    {
      "cell_type": "code",
      "execution_count": 11,
      "metadata": {
        "colab": {
          "base_uri": "https://localhost:8080/"
        },
        "id": "gGavN5PfUqng",
        "outputId": "681b719b-8a72-4677-dcbd-b4fc3709f5c2"
      },
      "outputs": [
        {
          "name": "stdout",
          "output_type": "stream",
          "text": [
            "System configuration report saved to 'system_configuration_report.txt'\n"
          ]
        }
      ],
      "source": [
        "import subprocess\n",
        "\n",
        "def run_command(command):\n",
        "    result = subprocess.run(command, shell=True, capture_output=True, text=True)\n",
        "    return result.stdout\n",
        "\n",
        "# Gather system information\n",
        "report = \"### System Configuration Report\\n\\n\"\n",
        "report += \"**CPU Information:**\\n\" + run_command(\"lscpu\") + \"\\n\"\n",
        "report += \"**GPU Information:**\\n\" + (run_command(\"nvidia-smi\") if tf.config.list_physical_devices('GPU') else \"No GPU found\") + \"\\n\"\n",
        "report += \"**Memory Information:**\\n\" + run_command(\"free -h\") + \"\\n\"\n",
        "report += \"**Disk Space:**\\n\" + run_command(\"df -h\") + \"\\n\"\n",
        "report += \"**Python Version:**\\n\" + run_command(\"python --version\") + \"\\n\"\n",
        "report += \"**Installed Packages:**\\n\" + run_command(\"pip list\") + \"\\n\"\n",
        "\n",
        "# Save to a text file\n",
        "with open(\"system_configuration_report.txt\", \"w\") as file:\n",
        "    file.write(report)\n",
        "\n",
        "print(\"System configuration report saved to 'system_configuration_report.txt'\")\n"
      ]
    },
    {
      "cell_type": "markdown",
      "metadata": {
        "id": "RFEKgmlTUsIh"
      },
      "source": [
        "# 8. Download the Report\n",
        "After running the above code, you can download the report file system_configuration_report.txt to your local machine."
      ]
    },
    {
      "cell_type": "code",
      "execution_count": 18,
      "metadata": {
        "colab": {
          "base_uri": "https://localhost:8080/",
          "height": 17
        },
        "id": "pAOd2JWbUuo4",
        "outputId": "8206a0f6-a08d-4965-a853-6a7b78e48d4c"
      },
      "outputs": [
        {
          "data": {
            "text/html": [
              "<a href='system_configuration_report.txt' target='_blank'>system_configuration_report.txt</a><br>"
            ],
            "text/plain": [
              "/Users/wangpeng/Desktop/YEAR 5/Session 2/STATS201/Week2/system_configuration_report.txt"
            ]
          },
          "execution_count": 18,
          "metadata": {},
          "output_type": "execute_result"
        }
      ],
      "source": [
        "from IPython.display import FileLink\n",
        "\n",
        "# Display a download link for the file\n",
        "FileLink(r'system_configuration_report.txt')\n"
      ]
    },
    {
      "cell_type": "markdown",
      "metadata": {
        "id": "Vqoo3RSmU2yL"
      },
      "source": [
        "## Additional Tip: Use Markdown for Better Readability\n",
        "If you want to display the report in a structured format within the notebook, use IPython.display.Markdown:"
      ]
    },
    {
      "cell_type": "code",
      "execution_count": 13,
      "metadata": {
        "colab": {
          "base_uri": "https://localhost:8080/",
          "height": 1000
        },
        "id": "_AlpX27LU5tJ",
        "outputId": "cb2d5001-2599-4a8b-c866-68c4c5682727"
      },
      "outputs": [
        {
          "data": {
            "text/markdown": [
              "### System Configuration Report\n",
              "\n",
              "**CPU Information:**\n",
              "\n",
              "**GPU Information:**\n",
              "No GPU found\n",
              "**Memory Information:**\n",
              "\n",
              "**Disk Space:**\n",
              "Filesystem                                Size    Used   Avail Capacity iused ifree %iused  Mounted on\n",
              "/dev/disk3s1s1                           460Gi    19Gi    30Gi    39%    404k  315M    0%   /\n",
              "devfs                                    203Ki   203Ki     0Bi   100%     701     0  100%   /dev\n",
              "/dev/disk3s6                             460Gi   7.0Gi    30Gi    19%       7  315M    0%   /System/Volumes/VM\n",
              "/dev/disk3s2                             460Gi    11Gi    30Gi    28%    1.6k  315M    0%   /System/Volumes/Preboot\n",
              "/dev/disk3s4                             460Gi   626Mi    30Gi     2%     295  315M    0%   /System/Volumes/Update\n",
              "/dev/disk1s2                             500Mi   6.0Mi   480Mi     2%       1  4.9M    0%   /System/Volumes/xarts\n",
              "/dev/disk1s1                             500Mi   6.2Mi   480Mi     2%      29  4.9M    0%   /System/Volumes/iSCPreboot\n",
              "/dev/disk1s3                             500Mi   3.2Mi   480Mi     1%      55  4.9M    0%   /System/Volumes/Hardware\n",
              "/dev/disk3s5                             460Gi   390Gi    30Gi    93%    4.0M  315M    1%   /System/Volumes/Data\n",
              "/dev/disk3s1                             460Gi    19Gi    30Gi    39%    404k  315M    0%   /System/Volumes/Update/mnt1\n",
              "map auto_home                              0Bi     0Bi     0Bi   100%       0     0     -   /System/Volumes/Data/home\n",
              "/Applications/Shadowrocket.app/Wrapper   460Gi   384Gi    41Gi    91%    3.9M  432M    1%   /private/var/folders/lb/hxgt11q17hb8gzs1pw1v2jr40000gn/X/BA274810-68C4-51F7-B3FC-0D68F8CDBE6F\n",
              "\n",
              "**Python Version:**\n",
              "Python 3.9.18\n",
              "\n",
              "**Installed Packages:**\n",
              "Package                                           Version\n",
              "------------------------------------------------- ----------\n",
              "absl-py                                           2.1.0\n",
              "altgraph                                          0.17.2\n",
              "annotated-types                                   0.7.0\n",
              "anyio                                             4.4.0\n",
              "appnope                                           0.1.4\n",
              "asttokens                                         2.4.1\n",
              "astunparse                                        1.6.3\n",
              "audioread                                         3.0.1\n",
              "certifi                                           2023.11.17\n",
              "cffi                                              1.16.0\n",
              "charset-normalizer                                3.3.2\n",
              "comm                                              0.2.2\n",
              "contourpy                                         1.2.0\n",
              "cycler                                            0.12.1\n",
              "debugpy                                           1.8.1\n",
              "decorator                                         5.1.1\n",
              "distro                                            1.9.0\n",
              "exceptiongroup                                    1.2.0\n",
              "executing                                         2.0.1\n",
              "fastdtw                                           0.3.4\n",
              "flatbuffers                                       24.3.25\n",
              "fonttools                                         4.47.2\n",
              "future                                            0.18.2\n",
              "gast                                              0.5.4\n",
              "google-pasta                                      0.2.0\n",
              "grpcio                                            1.62.1\n",
              "h11                                               0.14.0\n",
              "h5py                                              3.11.0\n",
              "httpcore                                          1.0.5\n",
              "httpx                                             0.27.0\n",
              "idna                                              3.6\n",
              "importlib_metadata                                7.1.0\n",
              "importlib-resources                               6.1.1\n",
              "ipykernel                                         6.29.4\n",
              "ipython                                           8.18.1\n",
              "jedi                                              0.19.1\n",
              "joblib                                            1.3.2\n",
              "jupyter_client                                    8.6.1\n",
              "jupyter_core                                      5.7.2\n",
              "keras                                             3.2.1\n",
              "keyboard                                          0.13.5\n",
              "kiwisolver                                        1.4.5\n",
              "lazy_loader                                       0.3\n",
              "libclang                                          18.1.1\n",
              "librosa                                           0.10.1\n",
              "llvmlite                                          0.41.1\n",
              "macholib                                          1.15.2\n",
              "Markdown                                          3.6\n",
              "markdown-it-py                                    3.0.0\n",
              "MarkupSafe                                        2.1.5\n",
              "matplotlib                                        3.8.2\n",
              "matplotlib-inline                                 0.1.6\n",
              "mdurl                                             0.1.2\n",
              "ml-dtypes                                         0.3.2\n",
              "msgpack                                           1.0.7\n",
              "namex                                             0.0.7\n",
              "nest-asyncio                                      1.6.0\n",
              "numba                                             0.58.1\n",
              "numpy                                             1.26.3\n",
              "openai                                            1.35.3\n",
              "opencv-python                                     4.9.0.80\n",
              "opt-einsum                                        3.3.0\n",
              "optree                                            0.11.0\n",
              "packaging                                         23.2\n",
              "pandas                                            2.2.2\n",
              "parso                                             0.8.4\n",
              "pexpect                                           4.9.0\n",
              "pillow                                            10.2.0\n",
              "pip                                               24.1\n",
              "platformdirs                                      4.2.0\n",
              "pooch                                             1.8.0\n",
              "prompt-toolkit                                    3.0.43\n",
              "protobuf                                          4.25.3\n",
              "psutil                                            5.9.8\n",
              "ptyprocess                                        0.7.0\n",
              "pure-eval                                         0.2.2\n",
              "PyAudio                                           0.2.14\n",
              "pycparser                                         2.21\n",
              "pydantic                                          2.7.4\n",
              "pydantic_core                                     2.18.4\n",
              "Pygments                                          2.17.2\n",
              "pyobjc                                            10.1\n",
              "pyobjc-core                                       10.1\n",
              "pyobjc-framework-Accessibility                    10.1\n",
              "pyobjc-framework-Accounts                         10.1\n",
              "pyobjc-framework-AddressBook                      10.1\n",
              "pyobjc-framework-AdServices                       10.1\n",
              "pyobjc-framework-AdSupport                        10.1\n",
              "pyobjc-framework-AppleScriptKit                   10.1\n",
              "pyobjc-framework-AppleScriptObjC                  10.1\n",
              "pyobjc-framework-ApplicationServices              10.1\n",
              "pyobjc-framework-AppTrackingTransparency          10.1\n",
              "pyobjc-framework-AudioVideoBridging               10.1\n",
              "pyobjc-framework-AuthenticationServices           10.1\n",
              "pyobjc-framework-AutomaticAssessmentConfiguration 10.1\n",
              "pyobjc-framework-Automator                        10.1\n",
              "pyobjc-framework-AVFoundation                     10.1\n",
              "pyobjc-framework-AVKit                            10.1\n",
              "pyobjc-framework-AVRouting                        10.1\n",
              "pyobjc-framework-BackgroundAssets                 10.1\n",
              "pyobjc-framework-BusinessChat                     10.1\n",
              "pyobjc-framework-CalendarStore                    10.1\n",
              "pyobjc-framework-CallKit                          10.1\n",
              "pyobjc-framework-CFNetwork                        10.1\n",
              "pyobjc-framework-ClassKit                         10.1\n",
              "pyobjc-framework-CloudKit                         10.1\n",
              "pyobjc-framework-Cocoa                            10.1\n",
              "pyobjc-framework-Collaboration                    10.1\n",
              "pyobjc-framework-ColorSync                        10.1\n",
              "pyobjc-framework-Contacts                         10.1\n",
              "pyobjc-framework-ContactsUI                       10.1\n",
              "pyobjc-framework-CoreAudio                        10.1\n",
              "pyobjc-framework-CoreAudioKit                     10.1\n",
              "pyobjc-framework-CoreBluetooth                    10.1\n",
              "pyobjc-framework-CoreData                         10.1\n",
              "pyobjc-framework-CoreHaptics                      10.1\n",
              "pyobjc-framework-CoreLocation                     10.1\n",
              "pyobjc-framework-CoreMedia                        10.1\n",
              "pyobjc-framework-CoreMediaIO                      10.1\n",
              "pyobjc-framework-CoreMIDI                         10.1\n",
              "pyobjc-framework-CoreML                           10.1\n",
              "pyobjc-framework-CoreMotion                       10.1\n",
              "pyobjc-framework-CoreServices                     10.1\n",
              "pyobjc-framework-CoreSpotlight                    10.1\n",
              "pyobjc-framework-CoreText                         10.1\n",
              "pyobjc-framework-CoreWLAN                         10.1\n",
              "pyobjc-framework-CryptoTokenKit                   10.1\n",
              "pyobjc-framework-DataDetection                    10.1\n",
              "pyobjc-framework-DeviceCheck                      10.1\n",
              "pyobjc-framework-DictionaryServices               10.1\n",
              "pyobjc-framework-DiscRecording                    10.1\n",
              "pyobjc-framework-DiscRecordingUI                  10.1\n",
              "pyobjc-framework-DiskArbitration                  10.1\n",
              "pyobjc-framework-DVDPlayback                      10.1\n",
              "pyobjc-framework-EventKit                         10.1\n",
              "pyobjc-framework-ExceptionHandling                10.1\n",
              "pyobjc-framework-ExecutionPolicy                  10.1\n",
              "pyobjc-framework-ExtensionKit                     10.1\n",
              "pyobjc-framework-ExternalAccessory                10.1\n",
              "pyobjc-framework-FileProvider                     10.1\n",
              "pyobjc-framework-FileProviderUI                   10.1\n",
              "pyobjc-framework-FinderSync                       10.1\n",
              "pyobjc-framework-FSEvents                         10.1\n",
              "pyobjc-framework-GameCenter                       10.1\n",
              "pyobjc-framework-GameController                   10.1\n",
              "pyobjc-framework-GameKit                          10.1\n",
              "pyobjc-framework-GameplayKit                      10.1\n",
              "pyobjc-framework-HealthKit                        10.1\n",
              "pyobjc-framework-ImageCaptureCore                 10.1\n",
              "pyobjc-framework-InputMethodKit                   10.1\n",
              "pyobjc-framework-InstallerPlugins                 10.1\n",
              "pyobjc-framework-InstantMessage                   10.1\n",
              "pyobjc-framework-Intents                          10.1\n",
              "pyobjc-framework-IntentsUI                        10.1\n",
              "pyobjc-framework-IOBluetooth                      10.1\n",
              "pyobjc-framework-IOBluetoothUI                    10.1\n",
              "pyobjc-framework-IOSurface                        10.1\n",
              "pyobjc-framework-iTunesLibrary                    10.1\n",
              "pyobjc-framework-KernelManagement                 10.1\n",
              "pyobjc-framework-LatentSemanticMapping            10.1\n",
              "pyobjc-framework-LaunchServices                   10.1\n",
              "pyobjc-framework-libdispatch                      10.1\n",
              "pyobjc-framework-libxpc                           10.1\n",
              "pyobjc-framework-LinkPresentation                 10.1\n",
              "pyobjc-framework-LocalAuthentication              10.1\n",
              "pyobjc-framework-LocalAuthenticationEmbeddedUI    10.1\n",
              "pyobjc-framework-MailKit                          10.1\n",
              "pyobjc-framework-MapKit                           10.1\n",
              "pyobjc-framework-MediaAccessibility               10.1\n",
              "pyobjc-framework-MediaLibrary                     10.1\n",
              "pyobjc-framework-MediaPlayer                      10.1\n",
              "pyobjc-framework-MediaToolbox                     10.1\n",
              "pyobjc-framework-Metal                            10.1\n",
              "pyobjc-framework-MetalFX                          10.1\n",
              "pyobjc-framework-MetalKit                         10.1\n",
              "pyobjc-framework-MetalPerformanceShaders          10.1\n",
              "pyobjc-framework-MetalPerformanceShadersGraph     10.1\n",
              "pyobjc-framework-MetricKit                        10.1\n",
              "pyobjc-framework-MLCompute                        10.1\n",
              "pyobjc-framework-ModelIO                          10.1\n",
              "pyobjc-framework-MultipeerConnectivity            10.1\n",
              "pyobjc-framework-NaturalLanguage                  10.1\n",
              "pyobjc-framework-NetFS                            10.1\n",
              "pyobjc-framework-Network                          10.1\n",
              "pyobjc-framework-NetworkExtension                 10.1\n",
              "pyobjc-framework-NotificationCenter               10.1\n",
              "pyobjc-framework-OpenDirectory                    10.1\n",
              "pyobjc-framework-OSAKit                           10.1\n",
              "pyobjc-framework-OSLog                            10.1\n",
              "pyobjc-framework-PassKit                          10.1\n",
              "pyobjc-framework-PencilKit                        10.1\n",
              "pyobjc-framework-PHASE                            10.1\n",
              "pyobjc-framework-Photos                           10.1\n",
              "pyobjc-framework-PhotosUI                         10.1\n",
              "pyobjc-framework-PreferencePanes                  10.1\n",
              "pyobjc-framework-PushKit                          10.1\n",
              "pyobjc-framework-Quartz                           10.1\n",
              "pyobjc-framework-QuickLookThumbnailing            10.1\n",
              "pyobjc-framework-ReplayKit                        10.1\n",
              "pyobjc-framework-SafariServices                   10.1\n",
              "pyobjc-framework-SafetyKit                        10.1\n",
              "pyobjc-framework-SceneKit                         10.1\n",
              "pyobjc-framework-ScreenCaptureKit                 10.1\n",
              "pyobjc-framework-ScreenSaver                      10.1\n",
              "pyobjc-framework-ScreenTime                       10.1\n",
              "pyobjc-framework-ScriptingBridge                  10.1\n",
              "pyobjc-framework-SearchKit                        10.1\n",
              "pyobjc-framework-Security                         10.1\n",
              "pyobjc-framework-SecurityFoundation               10.1\n",
              "pyobjc-framework-SecurityInterface                10.1\n",
              "pyobjc-framework-ServiceManagement                10.1\n",
              "pyobjc-framework-SharedWithYou                    10.1\n",
              "pyobjc-framework-SharedWithYouCore                10.1\n",
              "pyobjc-framework-ShazamKit                        10.1\n",
              "pyobjc-framework-Social                           10.1\n",
              "pyobjc-framework-SoundAnalysis                    10.1\n",
              "pyobjc-framework-Speech                           10.1\n",
              "pyobjc-framework-SpriteKit                        10.1\n",
              "pyobjc-framework-StoreKit                         10.1\n",
              "pyobjc-framework-SyncServices                     10.1\n",
              "pyobjc-framework-SystemConfiguration              10.1\n",
              "pyobjc-framework-SystemExtensions                 10.1\n",
              "pyobjc-framework-ThreadNetwork                    10.1\n",
              "pyobjc-framework-UniformTypeIdentifiers           10.1\n",
              "pyobjc-framework-UserNotifications                10.1\n",
              "pyobjc-framework-UserNotificationsUI              10.1\n",
              "pyobjc-framework-VideoSubscriberAccount           10.1\n",
              "pyobjc-framework-VideoToolbox                     10.1\n",
              "pyobjc-framework-Virtualization                   10.1\n",
              "pyobjc-framework-Vision                           10.1\n",
              "pyobjc-framework-WebKit                           10.1\n",
              "pyparsing                                         3.1.1\n",
              "python-dateutil                                   2.8.2\n",
              "pytz                                              2024.1\n",
              "pyzmq                                             25.1.2\n",
              "requests                                          2.31.0\n",
              "rich                                              13.7.1\n",
              "scikit-learn                                      1.4.0\n",
              "scipy                                             1.12.0\n",
              "setuptools                                        58.0.4\n",
              "six                                               1.15.0\n",
              "sniffio                                           1.3.1\n",
              "sounddevice                                       0.4.6\n",
              "soundfile                                         0.12.1\n",
              "soxr                                              0.3.7\n",
              "stack-data                                        0.6.3\n",
              "tensorboard                                       2.16.2\n",
              "tensorboard-data-server                           0.7.2\n",
              "tensorflow                                        2.16.1\n",
              "tensorflow-io-gcs-filesystem                      0.36.0\n",
              "termcolor                                         2.4.0\n",
              "threadpoolctl                                     3.2.0\n",
              "tornado                                           6.4\n",
              "tqdm                                              4.66.4\n",
              "traitlets                                         5.14.2\n",
              "typing_extensions                                 4.9.0\n",
              "tzdata                                            2024.1\n",
              "urllib3                                           2.2.0\n",
              "wcwidth                                           0.2.13\n",
              "Werkzeug                                          3.0.2\n",
              "wheel                                             0.37.0\n",
              "wrapt                                             1.16.0\n",
              "zipp                                              3.17.0\n",
              "\n"
            ],
            "text/plain": [
              "<IPython.core.display.Markdown object>"
            ]
          },
          "execution_count": 13,
          "metadata": {},
          "output_type": "execute_result"
        }
      ],
      "source": [
        "from IPython.display import Markdown\n",
        "\n",
        "Markdown(report)\n"
      ]
    }
  ],
  "metadata": {
    "colab": {
      "provenance": []
    },
    "kernelspec": {
      "display_name": "Python 3",
      "name": "python3"
    },
    "language_info": {
      "codemirror_mode": {
        "name": "ipython",
        "version": 3
      },
      "file_extension": ".py",
      "mimetype": "text/x-python",
      "name": "python",
      "nbconvert_exporter": "python",
      "pygments_lexer": "ipython3",
      "version": "3.9.6"
    }
  },
  "nbformat": 4,
  "nbformat_minor": 0
}
